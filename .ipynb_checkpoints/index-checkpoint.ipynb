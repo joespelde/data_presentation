{
 "cells": [
  {
   "cell_type": "markdown",
   "metadata": {
    "slideshow": {
     "slide_type": "slide"
    }
   },
   "source": [
    "# Do Playgrounds Affect Student Growth?"
   ]
  },
  {
   "cell_type": "code",
   "execution_count": 18,
   "metadata": {
    "slideshow": {
     "slide_type": "slide"
    }
   },
   "outputs": [],
   "source": [
    "import pandas as pd\n",
    "import matplotlib.pyplot as plt\n",
    "import numpy as np\n",
    "%matplotlib inline\n",
    "\n",
    "df = pd.read_csv('cps_progress_report_18.csv')\n",
    "parks_df = pd.read_csv('parks.csv')\n",
    "prof_df = pd.read_csv('cps_school_profile_2019.csv')\n"
   ]
  },
  {
   "cell_type": "markdown",
   "metadata": {
    "slideshow": {
     "slide_type": "slide"
    }
   },
   "source": [
    "## The Data"
   ]
  },
  {
   "cell_type": "markdown",
   "metadata": {
    "slideshow": {
     "slide_type": "subslide"
    }
   },
   "source": [
    "### CPS Progress Report 2018-2019 School Year"
   ]
  },
  {
   "cell_type": "code",
   "execution_count": 19,
   "metadata": {},
   "outputs": [
    {
     "data": {
      "text/html": [
       "<div>\n",
       "<style scoped>\n",
       "    .dataframe tbody tr th:only-of-type {\n",
       "        vertical-align: middle;\n",
       "    }\n",
       "\n",
       "    .dataframe tbody tr th {\n",
       "        vertical-align: top;\n",
       "    }\n",
       "\n",
       "    .dataframe thead th {\n",
       "        text-align: right;\n",
       "    }\n",
       "</style>\n",
       "<table border=\"1\" class=\"dataframe\">\n",
       "  <thead>\n",
       "    <tr style=\"text-align: right;\">\n",
       "      <th></th>\n",
       "      <th>School_ID</th>\n",
       "      <th>Short_Name</th>\n",
       "      <th>Long_Name</th>\n",
       "      <th>School_Type</th>\n",
       "      <th>Primary_Category</th>\n",
       "      <th>Address</th>\n",
       "      <th>City</th>\n",
       "      <th>State</th>\n",
       "      <th>Zip</th>\n",
       "      <th>Phone</th>\n",
       "      <th>...</th>\n",
       "      <th>Attainment_SAT_Grade_11_School_Pct</th>\n",
       "      <th>Attainment_SAT_Grade_11_School_Lbl</th>\n",
       "      <th>Attainment_All_Grades_School_Pct</th>\n",
       "      <th>Attainment_All_Grades_School_Lbl</th>\n",
       "      <th>Growth_PSAT_Math_Grade_10_School_Pct</th>\n",
       "      <th>Growth_PSAT_Math_Grade_10_School_Lbl</th>\n",
       "      <th>Growth_SAT_Reading_Grade_11_School_Pct</th>\n",
       "      <th>Growth_SAT_Reading_Grade_11_School_Lbl</th>\n",
       "      <th>Growth_SAT_Math_Grade_11_School_Pct</th>\n",
       "      <th>Growth_SAT_Math_Grade_11_School_Lbl</th>\n",
       "    </tr>\n",
       "  </thead>\n",
       "  <tbody>\n",
       "    <tr>\n",
       "      <th>0</th>\n",
       "      <td>609869</td>\n",
       "      <td>LANGFORD</td>\n",
       "      <td>Anna R. Langford Community Academy</td>\n",
       "      <td>Neighborhood</td>\n",
       "      <td>ES</td>\n",
       "      <td>6010 S THROOP ST</td>\n",
       "      <td>Chicago</td>\n",
       "      <td>Illinois</td>\n",
       "      <td>60636</td>\n",
       "      <td>7.735359e+09</td>\n",
       "      <td>...</td>\n",
       "      <td>NaN</td>\n",
       "      <td>NaN</td>\n",
       "      <td>NaN</td>\n",
       "      <td>NaN</td>\n",
       "      <td>NaN</td>\n",
       "      <td>NaN</td>\n",
       "      <td>NaN</td>\n",
       "      <td>NaN</td>\n",
       "      <td>NaN</td>\n",
       "      <td>NaN</td>\n",
       "    </tr>\n",
       "    <tr>\n",
       "      <th>1</th>\n",
       "      <td>610225</td>\n",
       "      <td>WHISTLER</td>\n",
       "      <td>John Whistler Elementary School</td>\n",
       "      <td>Neighborhood</td>\n",
       "      <td>ES</td>\n",
       "      <td>11533 S ADA ST</td>\n",
       "      <td>Chicago</td>\n",
       "      <td>Illinois</td>\n",
       "      <td>60643</td>\n",
       "      <td>7.735356e+09</td>\n",
       "      <td>...</td>\n",
       "      <td>NaN</td>\n",
       "      <td>NaN</td>\n",
       "      <td>NaN</td>\n",
       "      <td>NaN</td>\n",
       "      <td>NaN</td>\n",
       "      <td>NaN</td>\n",
       "      <td>NaN</td>\n",
       "      <td>NaN</td>\n",
       "      <td>NaN</td>\n",
       "      <td>NaN</td>\n",
       "    </tr>\n",
       "    <tr>\n",
       "      <th>2</th>\n",
       "      <td>609734</td>\n",
       "      <td>TAFT HS</td>\n",
       "      <td>William Howard Taft High School</td>\n",
       "      <td>Neighborhood</td>\n",
       "      <td>HS</td>\n",
       "      <td>6530 W BRYN MAWR AVE</td>\n",
       "      <td>Chicago</td>\n",
       "      <td>Illinois</td>\n",
       "      <td>60631</td>\n",
       "      <td>7.735341e+09</td>\n",
       "      <td>...</td>\n",
       "      <td>45.6</td>\n",
       "      <td>45.6</td>\n",
       "      <td>56.4</td>\n",
       "      <td>56.4</td>\n",
       "      <td>28.0</td>\n",
       "      <td>28th</td>\n",
       "      <td>50.0</td>\n",
       "      <td>50th</td>\n",
       "      <td>34.0</td>\n",
       "      <td>34th</td>\n",
       "    </tr>\n",
       "    <tr>\n",
       "      <th>3</th>\n",
       "      <td>610588</td>\n",
       "      <td>RICHARDSON</td>\n",
       "      <td>Robert J. Richardson Middle School</td>\n",
       "      <td>Neighborhood</td>\n",
       "      <td>MS</td>\n",
       "      <td>6018 S KARLOV</td>\n",
       "      <td>Chicago</td>\n",
       "      <td>Illinois</td>\n",
       "      <td>60629</td>\n",
       "      <td>7.735359e+09</td>\n",
       "      <td>...</td>\n",
       "      <td>NaN</td>\n",
       "      <td>NaN</td>\n",
       "      <td>NaN</td>\n",
       "      <td>NaN</td>\n",
       "      <td>NaN</td>\n",
       "      <td>NaN</td>\n",
       "      <td>NaN</td>\n",
       "      <td>NaN</td>\n",
       "      <td>NaN</td>\n",
       "      <td>NaN</td>\n",
       "    </tr>\n",
       "    <tr>\n",
       "      <th>4</th>\n",
       "      <td>609894</td>\n",
       "      <td>DRAKE</td>\n",
       "      <td>John B Drake Elementary School</td>\n",
       "      <td>Neighborhood</td>\n",
       "      <td>ES</td>\n",
       "      <td>2710 S DEARBORN ST</td>\n",
       "      <td>Chicago</td>\n",
       "      <td>Illinois</td>\n",
       "      <td>60616</td>\n",
       "      <td>7.735349e+09</td>\n",
       "      <td>...</td>\n",
       "      <td>NaN</td>\n",
       "      <td>NaN</td>\n",
       "      <td>NaN</td>\n",
       "      <td>NaN</td>\n",
       "      <td>NaN</td>\n",
       "      <td>NaN</td>\n",
       "      <td>NaN</td>\n",
       "      <td>NaN</td>\n",
       "      <td>NaN</td>\n",
       "      <td>NaN</td>\n",
       "    </tr>\n",
       "  </tbody>\n",
       "</table>\n",
       "<p>5 rows × 182 columns</p>\n",
       "</div>"
      ],
      "text/plain": [
       "   School_ID  Short_Name                           Long_Name   School_Type  \\\n",
       "0     609869    LANGFORD  Anna R. Langford Community Academy  Neighborhood   \n",
       "1     610225    WHISTLER     John Whistler Elementary School  Neighborhood   \n",
       "2     609734     TAFT HS     William Howard Taft High School  Neighborhood   \n",
       "3     610588  RICHARDSON  Robert J. Richardson Middle School  Neighborhood   \n",
       "4     609894       DRAKE      John B Drake Elementary School  Neighborhood   \n",
       "\n",
       "  Primary_Category               Address     City     State    Zip  \\\n",
       "0               ES      6010 S THROOP ST  Chicago  Illinois  60636   \n",
       "1               ES        11533 S ADA ST  Chicago  Illinois  60643   \n",
       "2               HS  6530 W BRYN MAWR AVE  Chicago  Illinois  60631   \n",
       "3               MS         6018 S KARLOV  Chicago  Illinois  60629   \n",
       "4               ES    2710 S DEARBORN ST  Chicago  Illinois  60616   \n",
       "\n",
       "          Phone  ...  Attainment_SAT_Grade_11_School_Pct  \\\n",
       "0  7.735359e+09  ...                                 NaN   \n",
       "1  7.735356e+09  ...                                 NaN   \n",
       "2  7.735341e+09  ...                                45.6   \n",
       "3  7.735359e+09  ...                                 NaN   \n",
       "4  7.735349e+09  ...                                 NaN   \n",
       "\n",
       "  Attainment_SAT_Grade_11_School_Lbl Attainment_All_Grades_School_Pct  \\\n",
       "0                                NaN                              NaN   \n",
       "1                                NaN                              NaN   \n",
       "2                               45.6                             56.4   \n",
       "3                                NaN                              NaN   \n",
       "4                                NaN                              NaN   \n",
       "\n",
       "   Attainment_All_Grades_School_Lbl  Growth_PSAT_Math_Grade_10_School_Pct  \\\n",
       "0                               NaN                                   NaN   \n",
       "1                               NaN                                   NaN   \n",
       "2                              56.4                                  28.0   \n",
       "3                               NaN                                   NaN   \n",
       "4                               NaN                                   NaN   \n",
       "\n",
       "   Growth_PSAT_Math_Grade_10_School_Lbl  \\\n",
       "0                                   NaN   \n",
       "1                                   NaN   \n",
       "2                                  28th   \n",
       "3                                   NaN   \n",
       "4                                   NaN   \n",
       "\n",
       "   Growth_SAT_Reading_Grade_11_School_Pct  \\\n",
       "0                                     NaN   \n",
       "1                                     NaN   \n",
       "2                                    50.0   \n",
       "3                                     NaN   \n",
       "4                                     NaN   \n",
       "\n",
       "   Growth_SAT_Reading_Grade_11_School_Lbl  \\\n",
       "0                                     NaN   \n",
       "1                                     NaN   \n",
       "2                                    50th   \n",
       "3                                     NaN   \n",
       "4                                     NaN   \n",
       "\n",
       "   Growth_SAT_Math_Grade_11_School_Pct Growth_SAT_Math_Grade_11_School_Lbl  \n",
       "0                                  NaN                                 NaN  \n",
       "1                                  NaN                                 NaN  \n",
       "2                                 34.0                                34th  \n",
       "3                                  NaN                                 NaN  \n",
       "4                                  NaN                                 NaN  \n",
       "\n",
       "[5 rows x 182 columns]"
      ]
     },
     "execution_count": 19,
     "metadata": {},
     "output_type": "execute_result"
    }
   ],
   "source": [
    "df.head()"
   ]
  },
  {
   "cell_type": "markdown",
   "metadata": {
    "slideshow": {
     "slide_type": "subslide"
    }
   },
   "source": [
    "### Chicago Public Parks"
   ]
  },
  {
   "cell_type": "code",
   "execution_count": 20,
   "metadata": {},
   "outputs": [
    {
     "data": {
      "text/html": [
       "<div>\n",
       "<style scoped>\n",
       "    .dataframe tbody tr th:only-of-type {\n",
       "        vertical-align: middle;\n",
       "    }\n",
       "\n",
       "    .dataframe tbody tr th {\n",
       "        vertical-align: top;\n",
       "    }\n",
       "\n",
       "    .dataframe thead th {\n",
       "        text-align: right;\n",
       "    }\n",
       "</style>\n",
       "<table border=\"1\" class=\"dataframe\">\n",
       "  <thead>\n",
       "    <tr style=\"text-align: right;\">\n",
       "      <th></th>\n",
       "      <th>PARK NUMBER</th>\n",
       "      <th>PARK NAME</th>\n",
       "      <th>STREET ADDRESS</th>\n",
       "      <th>ZIP</th>\n",
       "      <th>ACRES</th>\n",
       "      <th>WARD</th>\n",
       "      <th>PARK CLASS</th>\n",
       "      <th>LABEL</th>\n",
       "      <th>WHEELCHAIR ACCESSIBLE BALL FIELDS</th>\n",
       "      <th>ALFRED CALDWELL LILY POND</th>\n",
       "      <th>...</th>\n",
       "      <th>BOXING CENTER</th>\n",
       "      <th>WETLAND AREA</th>\n",
       "      <th>LAGOON</th>\n",
       "      <th>CAROUSEL</th>\n",
       "      <th>CROQUET</th>\n",
       "      <th>GOLF COURSE MINIATURE</th>\n",
       "      <th>MODEL TRAIN DISPLAY</th>\n",
       "      <th>MODEL YACHT BASIN</th>\n",
       "      <th>CRICKET FIELD</th>\n",
       "      <th>LOCATION</th>\n",
       "    </tr>\n",
       "  </thead>\n",
       "  <tbody>\n",
       "    <tr>\n",
       "      <th>0</th>\n",
       "      <td>1139</td>\n",
       "      <td>OHIO</td>\n",
       "      <td>4712 W OHIO ST</td>\n",
       "      <td>60644</td>\n",
       "      <td>0.42</td>\n",
       "      <td>37</td>\n",
       "      <td>MINI-PARK</td>\n",
       "      <td>Ohio</td>\n",
       "      <td>0</td>\n",
       "      <td>0</td>\n",
       "      <td>...</td>\n",
       "      <td>0</td>\n",
       "      <td>0</td>\n",
       "      <td>0</td>\n",
       "      <td>0</td>\n",
       "      <td>0</td>\n",
       "      <td>0</td>\n",
       "      <td>0</td>\n",
       "      <td>0</td>\n",
       "      <td>0</td>\n",
       "      <td>4712 W OHIO ST60644\\n(41.89145773962588, -87.7...</td>\n",
       "    </tr>\n",
       "    <tr>\n",
       "      <th>1</th>\n",
       "      <td>206</td>\n",
       "      <td>ALTGELD (JOHN)</td>\n",
       "      <td>515 S WASHTENAW AVE</td>\n",
       "      <td>60612</td>\n",
       "      <td>4.32</td>\n",
       "      <td>27</td>\n",
       "      <td>COMMUNITY PARK</td>\n",
       "      <td>Altgeld</td>\n",
       "      <td>0</td>\n",
       "      <td>0</td>\n",
       "      <td>...</td>\n",
       "      <td>0</td>\n",
       "      <td>0</td>\n",
       "      <td>0</td>\n",
       "      <td>0</td>\n",
       "      <td>0</td>\n",
       "      <td>0</td>\n",
       "      <td>0</td>\n",
       "      <td>0</td>\n",
       "      <td>0</td>\n",
       "      <td>515 S WASHTENAW AVE60612\\n(41.87472755936259, ...</td>\n",
       "    </tr>\n",
       "    <tr>\n",
       "      <th>2</th>\n",
       "      <td>33</td>\n",
       "      <td>RAINEY (EDWARD)</td>\n",
       "      <td>4350 W 79TH ST</td>\n",
       "      <td>60652</td>\n",
       "      <td>18.31</td>\n",
       "      <td>13</td>\n",
       "      <td>REGIONAL PARK</td>\n",
       "      <td>Rainey</td>\n",
       "      <td>0</td>\n",
       "      <td>0</td>\n",
       "      <td>...</td>\n",
       "      <td>0</td>\n",
       "      <td>0</td>\n",
       "      <td>0</td>\n",
       "      <td>0</td>\n",
       "      <td>0</td>\n",
       "      <td>0</td>\n",
       "      <td>0</td>\n",
       "      <td>0</td>\n",
       "      <td>0</td>\n",
       "      <td>4350 W 79TH ST60652\\n(41.749472777639994, -87....</td>\n",
       "    </tr>\n",
       "    <tr>\n",
       "      <th>3</th>\n",
       "      <td>260</td>\n",
       "      <td>KELLY (EDWARD)</td>\n",
       "      <td>2725 W 41ST ST</td>\n",
       "      <td>60632</td>\n",
       "      <td>7.08</td>\n",
       "      <td>12</td>\n",
       "      <td>COMMUNITY PARK</td>\n",
       "      <td>Kelly (Edward)</td>\n",
       "      <td>0</td>\n",
       "      <td>0</td>\n",
       "      <td>...</td>\n",
       "      <td>0</td>\n",
       "      <td>0</td>\n",
       "      <td>0</td>\n",
       "      <td>0</td>\n",
       "      <td>0</td>\n",
       "      <td>0</td>\n",
       "      <td>0</td>\n",
       "      <td>0</td>\n",
       "      <td>0</td>\n",
       "      <td>2725 W 41ST ST60632\\n(41.81925144080563, -87.6...</td>\n",
       "    </tr>\n",
       "    <tr>\n",
       "      <th>4</th>\n",
       "      <td>59</td>\n",
       "      <td>ORIOLE</td>\n",
       "      <td>5430 N OLCOTT AVE</td>\n",
       "      <td>60656</td>\n",
       "      <td>18.57</td>\n",
       "      <td>41</td>\n",
       "      <td>REGIONAL PARK</td>\n",
       "      <td>Oriole</td>\n",
       "      <td>0</td>\n",
       "      <td>0</td>\n",
       "      <td>...</td>\n",
       "      <td>0</td>\n",
       "      <td>0</td>\n",
       "      <td>0</td>\n",
       "      <td>0</td>\n",
       "      <td>0</td>\n",
       "      <td>0</td>\n",
       "      <td>0</td>\n",
       "      <td>0</td>\n",
       "      <td>0</td>\n",
       "      <td>5430 N OLCOTT AVE60656\\n(41.979752471520555, -...</td>\n",
       "    </tr>\n",
       "  </tbody>\n",
       "</table>\n",
       "<p>5 rows × 75 columns</p>\n",
       "</div>"
      ],
      "text/plain": [
       "   PARK NUMBER        PARK NAME       STREET ADDRESS    ZIP  ACRES  WARD  \\\n",
       "0         1139             OHIO       4712 W OHIO ST  60644   0.42    37   \n",
       "1          206   ALTGELD (JOHN)  515 S WASHTENAW AVE  60612   4.32    27   \n",
       "2           33  RAINEY (EDWARD)       4350 W 79TH ST  60652  18.31    13   \n",
       "3          260   KELLY (EDWARD)       2725 W 41ST ST  60632   7.08    12   \n",
       "4           59           ORIOLE    5430 N OLCOTT AVE  60656  18.57    41   \n",
       "\n",
       "       PARK CLASS           LABEL  WHEELCHAIR ACCESSIBLE BALL FIELDS  \\\n",
       "0       MINI-PARK            Ohio                                  0   \n",
       "1  COMMUNITY PARK         Altgeld                                  0   \n",
       "2   REGIONAL PARK          Rainey                                  0   \n",
       "3  COMMUNITY PARK  Kelly (Edward)                                  0   \n",
       "4   REGIONAL PARK          Oriole                                  0   \n",
       "\n",
       "   ALFRED CALDWELL LILY POND  ...  BOXING CENTER  WETLAND AREA  LAGOON  \\\n",
       "0                          0  ...              0             0       0   \n",
       "1                          0  ...              0             0       0   \n",
       "2                          0  ...              0             0       0   \n",
       "3                          0  ...              0             0       0   \n",
       "4                          0  ...              0             0       0   \n",
       "\n",
       "   CAROUSEL  CROQUET  GOLF COURSE MINIATURE  MODEL TRAIN DISPLAY  \\\n",
       "0         0        0                      0                    0   \n",
       "1         0        0                      0                    0   \n",
       "2         0        0                      0                    0   \n",
       "3         0        0                      0                    0   \n",
       "4         0        0                      0                    0   \n",
       "\n",
       "   MODEL YACHT BASIN  CRICKET FIELD  \\\n",
       "0                  0              0   \n",
       "1                  0              0   \n",
       "2                  0              0   \n",
       "3                  0              0   \n",
       "4                  0              0   \n",
       "\n",
       "                                            LOCATION  \n",
       "0  4712 W OHIO ST60644\\n(41.89145773962588, -87.7...  \n",
       "1  515 S WASHTENAW AVE60612\\n(41.87472755936259, ...  \n",
       "2  4350 W 79TH ST60652\\n(41.749472777639994, -87....  \n",
       "3  2725 W 41ST ST60632\\n(41.81925144080563, -87.6...  \n",
       "4  5430 N OLCOTT AVE60656\\n(41.979752471520555, -...  \n",
       "\n",
       "[5 rows x 75 columns]"
      ]
     },
     "execution_count": 20,
     "metadata": {},
     "output_type": "execute_result"
    }
   ],
   "source": [
    "parks_df.head()"
   ]
  },
  {
   "cell_type": "markdown",
   "metadata": {
    "slideshow": {
     "slide_type": "slide"
    }
   },
   "source": [
    "### Find Unique Values for Student Growth Rating\n"
   ]
  },
  {
   "cell_type": "code",
   "execution_count": 21,
   "metadata": {
    "slideshow": {
     "slide_type": "-"
    }
   },
   "outputs": [
    {
     "data": {
      "text/plain": [
       "array(['AVERAGE', 'BELOW AVERAGE', 'ABOVE AVERAGE', 'FAR ABOVE AVERAGE',\n",
       "       'NO DATA AVAILABLE', 'FAR BELOW AVERAGE', nan], dtype=object)"
      ]
     },
     "execution_count": 21,
     "metadata": {},
     "output_type": "execute_result"
    }
   ],
   "source": [
    "df['Student_Growth_Rating'].unique()"
   ]
  },
  {
   "cell_type": "markdown",
   "metadata": {
    "slideshow": {
     "slide_type": "subslide"
    }
   },
   "source": [
    "### Create Numerical System for Student Growth Rating\n"
   ]
  },
  {
   "cell_type": "code",
   "execution_count": 22,
   "metadata": {
    "slideshow": {
     "slide_type": "-"
    }
   },
   "outputs": [
    {
     "data": {
      "text/plain": [
       "0    2.0\n",
       "1    1.0\n",
       "2    2.0\n",
       "3    2.0\n",
       "4    3.0\n",
       "Name: Student_Growth_No, dtype: float64"
      ]
     },
     "execution_count": 22,
     "metadata": {},
     "output_type": "execute_result"
    }
   ],
   "source": [
    "df.loc[df['Student_Growth_Rating']== 'FAR BELOW AVERAGE', 'Student_Growth_No'] = 0 \n",
    "df.loc[df['Student_Growth_Rating']== 'BELOW AVERAGE', 'Student_Growth_No'] = 1\n",
    "df.loc[df['Student_Growth_Rating']== 'AVERAGE', 'Student_Growth_No'] = 2 \n",
    "df.loc[df['Student_Growth_Rating']== 'ABOVE AVERAGE', 'Student_Growth_No'] = 3\n",
    "df.loc[df['Student_Growth_Rating']== 'FAR ABOVE AVERAGE', 'Student_Growth_No'] = 4 \n",
    "\n",
    "df['Student_Growth_No'].head()"
   ]
  },
  {
   "cell_type": "markdown",
   "metadata": {
    "slideshow": {
     "slide_type": "slide"
    }
   },
   "source": [
    "### Find Unique Zip codes\n"
   ]
  },
  {
   "cell_type": "code",
   "execution_count": 23,
   "metadata": {
    "slideshow": {
     "slide_type": "-"
    }
   },
   "outputs": [
    {
     "data": {
      "text/plain": [
       "array([60636, 60643, 60631, 60629, 60616, 60622, 60617, 60618, 60651,\n",
       "       60647, 60614, 60624, 60609, 60610, 60628, 60641, 60640, 60634,\n",
       "       60608, 60612, 60626, 60620, 60660, 60607, 60646, 60623, 60638,\n",
       "       60632, 60653, 60621, 60619, 60639, 60655, 60625, 60649, 60637,\n",
       "       60652, 60644, 60645, 60633, 60656, 60659, 60642, 60613, 60827,\n",
       "       60615, 60657, 60630, 60602, 60707, 60605])"
      ]
     },
     "execution_count": 23,
     "metadata": {},
     "output_type": "execute_result"
    }
   ],
   "source": [
    "df['Zip'].unique()"
   ]
  },
  {
   "cell_type": "markdown",
   "metadata": {
    "slideshow": {
     "slide_type": "subslide"
    }
   },
   "source": [
    "### Find Aggregate Student Growth Values for each Zip\n"
   ]
  },
  {
   "cell_type": "code",
   "execution_count": 24,
   "metadata": {
    "slideshow": {
     "slide_type": "-"
    }
   },
   "outputs": [],
   "source": [
    "zips = df['Zip'].unique()\n",
    "growth_med = []\n",
    "growth_min = []\n",
    "growth_max = []\n",
    "\n",
    "for zip in zips:\n",
    "    growth_med.append((df[df['Zip'] == zip]['Student_Growth_No']).median())\n",
    "    growth_min.append((df[df['Zip'] == zip]['Student_Growth_No']).min())\n",
    "    growth_max.append((df[df['Zip'] == zip]['Student_Growth_No']).max())\n",
    "\n",
    "growth_df = pd.DataFrame({'Zip': zips,'Student_Growth_Min':growth_min,'Student_Growth_Max':growth_max, 'Student_Growth_Median': growth_med}, columns=['Zip','Student_Growth_Min','Student_Growth_Max', 'Student_Growth_Median'])"
   ]
  },
  {
   "cell_type": "markdown",
   "metadata": {
    "slideshow": {
     "slide_type": "slide"
    }
   },
   "source": [
    "### Collect Playground totals using unique Zips\n"
   ]
  },
  {
   "cell_type": "code",
   "execution_count": 25,
   "metadata": {
    "slideshow": {
     "slide_type": "-"
    }
   },
   "outputs": [],
   "source": [
    "no_of_playgrounds = []\n",
    "total_acres = []\n",
    "bball_courts = []\n",
    "\n",
    "for zip in zips:\n",
    "    no_of_playgrounds.append((parks_df[parks_df['ZIP'] == zip]['PLAYGROUND']).sum())\n",
    "    total_acres.append((parks_df[parks_df['ZIP'] == zip]['ACRES']).sum())\n",
    "    bball_courts.append((parks_df[parks_df['ZIP'] == zip]['BASKETBALL COURTS']).sum())"
   ]
  },
  {
   "cell_type": "markdown",
   "metadata": {
    "slideshow": {
     "slide_type": "subslide"
    }
   },
   "source": [
    "### Add Playground Columns"
   ]
  },
  {
   "cell_type": "code",
   "execution_count": 26,
   "metadata": {
    "slideshow": {
     "slide_type": "-"
    }
   },
   "outputs": [],
   "source": [
    "growth_df['No_of_Playgrounds'] = no_of_playgrounds\n",
    "growth_df['Total_Acres'] = total_acres\n",
    "growth_df['No_of_Bball_Courts'] = bball_courts"
   ]
  },
  {
   "cell_type": "markdown",
   "metadata": {
    "slideshow": {
     "slide_type": "slide"
    }
   },
   "source": [
    "# The Result"
   ]
  },
  {
   "cell_type": "markdown",
   "metadata": {
    "slideshow": {
     "slide_type": "slide"
    }
   },
   "source": [
    "### Correlation Table"
   ]
  },
  {
   "cell_type": "code",
   "execution_count": 27,
   "metadata": {
    "slideshow": {
     "slide_type": "-"
    }
   },
   "outputs": [
    {
     "data": {
      "text/html": [
       "<div>\n",
       "<style scoped>\n",
       "    .dataframe tbody tr th:only-of-type {\n",
       "        vertical-align: middle;\n",
       "    }\n",
       "\n",
       "    .dataframe tbody tr th {\n",
       "        vertical-align: top;\n",
       "    }\n",
       "\n",
       "    .dataframe thead th {\n",
       "        text-align: right;\n",
       "    }\n",
       "</style>\n",
       "<table border=\"1\" class=\"dataframe\">\n",
       "  <thead>\n",
       "    <tr style=\"text-align: right;\">\n",
       "      <th></th>\n",
       "      <th>Zip</th>\n",
       "      <th>Student_Growth_Min</th>\n",
       "      <th>Student_Growth_Max</th>\n",
       "      <th>Student_Growth_Median</th>\n",
       "      <th>No_of_Playgrounds</th>\n",
       "      <th>Total_Acres</th>\n",
       "      <th>No_of_Bball_Courts</th>\n",
       "    </tr>\n",
       "  </thead>\n",
       "  <tbody>\n",
       "    <tr>\n",
       "      <th>Zip</th>\n",
       "      <td>1.000000</td>\n",
       "      <td>0.035943</td>\n",
       "      <td>-0.107512</td>\n",
       "      <td>0.010308</td>\n",
       "      <td>-0.388990</td>\n",
       "      <td>-0.203384</td>\n",
       "      <td>-0.271794</td>\n",
       "    </tr>\n",
       "    <tr>\n",
       "      <th>Student_Growth_Min</th>\n",
       "      <td>0.035943</td>\n",
       "      <td>1.000000</td>\n",
       "      <td>-0.110550</td>\n",
       "      <td>0.513534</td>\n",
       "      <td>-0.329829</td>\n",
       "      <td>-0.017297</td>\n",
       "      <td>-0.506799</td>\n",
       "    </tr>\n",
       "    <tr>\n",
       "      <th>Student_Growth_Max</th>\n",
       "      <td>-0.107512</td>\n",
       "      <td>-0.110550</td>\n",
       "      <td>1.000000</td>\n",
       "      <td>0.083100</td>\n",
       "      <td>0.391706</td>\n",
       "      <td>0.068706</td>\n",
       "      <td>0.474538</td>\n",
       "    </tr>\n",
       "    <tr>\n",
       "      <th>Student_Growth_Median</th>\n",
       "      <td>0.010308</td>\n",
       "      <td>0.513534</td>\n",
       "      <td>0.083100</td>\n",
       "      <td>1.000000</td>\n",
       "      <td>-0.350212</td>\n",
       "      <td>-0.202550</td>\n",
       "      <td>-0.277402</td>\n",
       "    </tr>\n",
       "    <tr>\n",
       "      <th>No_of_Playgrounds</th>\n",
       "      <td>-0.388990</td>\n",
       "      <td>-0.329829</td>\n",
       "      <td>0.391706</td>\n",
       "      <td>-0.350212</td>\n",
       "      <td>1.000000</td>\n",
       "      <td>0.533477</td>\n",
       "      <td>0.765091</td>\n",
       "    </tr>\n",
       "    <tr>\n",
       "      <th>Total_Acres</th>\n",
       "      <td>-0.203384</td>\n",
       "      <td>-0.017297</td>\n",
       "      <td>0.068706</td>\n",
       "      <td>-0.202550</td>\n",
       "      <td>0.533477</td>\n",
       "      <td>1.000000</td>\n",
       "      <td>0.350248</td>\n",
       "    </tr>\n",
       "    <tr>\n",
       "      <th>No_of_Bball_Courts</th>\n",
       "      <td>-0.271794</td>\n",
       "      <td>-0.506799</td>\n",
       "      <td>0.474538</td>\n",
       "      <td>-0.277402</td>\n",
       "      <td>0.765091</td>\n",
       "      <td>0.350248</td>\n",
       "      <td>1.000000</td>\n",
       "    </tr>\n",
       "  </tbody>\n",
       "</table>\n",
       "</div>"
      ],
      "text/plain": [
       "                            Zip  Student_Growth_Min  Student_Growth_Max  \\\n",
       "Zip                    1.000000            0.035943           -0.107512   \n",
       "Student_Growth_Min     0.035943            1.000000           -0.110550   \n",
       "Student_Growth_Max    -0.107512           -0.110550            1.000000   \n",
       "Student_Growth_Median  0.010308            0.513534            0.083100   \n",
       "No_of_Playgrounds     -0.388990           -0.329829            0.391706   \n",
       "Total_Acres           -0.203384           -0.017297            0.068706   \n",
       "No_of_Bball_Courts    -0.271794           -0.506799            0.474538   \n",
       "\n",
       "                       Student_Growth_Median  No_of_Playgrounds  Total_Acres  \\\n",
       "Zip                                 0.010308          -0.388990    -0.203384   \n",
       "Student_Growth_Min                  0.513534          -0.329829    -0.017297   \n",
       "Student_Growth_Max                  0.083100           0.391706     0.068706   \n",
       "Student_Growth_Median               1.000000          -0.350212    -0.202550   \n",
       "No_of_Playgrounds                  -0.350212           1.000000     0.533477   \n",
       "Total_Acres                        -0.202550           0.533477     1.000000   \n",
       "No_of_Bball_Courts                 -0.277402           0.765091     0.350248   \n",
       "\n",
       "                       No_of_Bball_Courts  \n",
       "Zip                             -0.271794  \n",
       "Student_Growth_Min              -0.506799  \n",
       "Student_Growth_Max               0.474538  \n",
       "Student_Growth_Median           -0.277402  \n",
       "No_of_Playgrounds                0.765091  \n",
       "Total_Acres                      0.350248  \n",
       "No_of_Bball_Courts               1.000000  "
      ]
     },
     "execution_count": 27,
     "metadata": {},
     "output_type": "execute_result"
    }
   ],
   "source": [
    "growth_df.corr(method='pearson')"
   ]
  },
  {
   "cell_type": "markdown",
   "metadata": {
    "slideshow": {
     "slide_type": "subslide"
    }
   },
   "source": [
    "# Maybe if I plot it?"
   ]
  },
  {
   "cell_type": "code",
   "execution_count": 31,
   "metadata": {
    "slideshow": {
     "slide_type": "subslide"
    }
   },
   "outputs": [
    {
     "data": {
      "image/png": "[encoded data removed]",
      "text/plain": [
       "<Figure size 432x288 with 1 Axes>"
      ]
     },
     "metadata": {
      "needs_background": "light"
     },
     "output_type": "display_data"
    }
   ],
   "source": [
    "plt.scatter(growth_df['No_of_Playgrounds'], growth_df['Student_Growth_Median'])\n",
    "plt.title('Playgrounds vs Student Growth')\n",
    "plt.xlabel('Playgrounds')\n",
    "plt.ylabel('Student Growth')\n",
    "plt.show()"
   ]
  },
  {
   "cell_type": "markdown",
   "metadata": {
    "slideshow": {
     "slide_type": "slide"
    }
   },
   "source": [
    "# When in doubt, add more data!"
   ]
  },
  {
   "cell_type": "markdown",
   "metadata": {
    "slideshow": {
     "slide_type": "slide"
    }
   },
   "source": [
    "### Lets add School Profile Info"
   ]
  },
  {
   "cell_type": "code",
   "execution_count": 32,
   "metadata": {
    "slideshow": {
     "slide_type": "-"
    }
   },
   "outputs": [
    {
     "data": {
      "text/html": [
       "<div>\n",
       "<style scoped>\n",
       "    .dataframe tbody tr th:only-of-type {\n",
       "        vertical-align: middle;\n",
       "    }\n",
       "\n",
       "    .dataframe tbody tr th {\n",
       "        vertical-align: top;\n",
       "    }\n",
       "\n",
       "    .dataframe thead th {\n",
       "        text-align: right;\n",
       "    }\n",
       "</style>\n",
       "<table border=\"1\" class=\"dataframe\">\n",
       "  <thead>\n",
       "    <tr style=\"text-align: right;\">\n",
       "      <th></th>\n",
       "      <th>School_ID</th>\n",
       "      <th>Legacy_Unit_ID</th>\n",
       "      <th>Finance_ID</th>\n",
       "      <th>Short_Name</th>\n",
       "      <th>Long_Name</th>\n",
       "      <th>Primary_Category</th>\n",
       "      <th>Is_High_School</th>\n",
       "      <th>Is_Middle_School</th>\n",
       "      <th>Is_Elementary_School</th>\n",
       "      <th>Is_Pre_School</th>\n",
       "      <th>...</th>\n",
       "      <th>Sixth_Contact_Name</th>\n",
       "      <th>Seventh_Contact_Title</th>\n",
       "      <th>Seventh_Contact_Name</th>\n",
       "      <th>Network</th>\n",
       "      <th>Is_GoCPS_Participant</th>\n",
       "      <th>Is_GoCPS_PreK</th>\n",
       "      <th>Is_GoCPS_Elementary</th>\n",
       "      <th>Is_GoCPS_High_School</th>\n",
       "      <th>Open_For_Enrollment_Date</th>\n",
       "      <th>Closed_For_Enrollment_Date</th>\n",
       "    </tr>\n",
       "  </thead>\n",
       "  <tbody>\n",
       "    <tr>\n",
       "      <th>0</th>\n",
       "      <td>610191</td>\n",
       "      <td>6070</td>\n",
       "      <td>29291</td>\n",
       "      <td>STONE</td>\n",
       "      <td>Stone Elementary Scholastic Academy</td>\n",
       "      <td>ES</td>\n",
       "      <td>False</td>\n",
       "      <td>True</td>\n",
       "      <td>True</td>\n",
       "      <td>False</td>\n",
       "      <td>...</td>\n",
       "      <td>NaN</td>\n",
       "      <td>NaN</td>\n",
       "      <td>NaN</td>\n",
       "      <td>Network 2</td>\n",
       "      <td>True</td>\n",
       "      <td>False</td>\n",
       "      <td>True</td>\n",
       "      <td>False</td>\n",
       "      <td>09/01/2004 12:00:00 AM</td>\n",
       "      <td>NaN</td>\n",
       "    </tr>\n",
       "    <tr>\n",
       "      <th>1</th>\n",
       "      <td>609799</td>\n",
       "      <td>2270</td>\n",
       "      <td>22231</td>\n",
       "      <td>BELL</td>\n",
       "      <td>Alexander Graham Bell Elementary School</td>\n",
       "      <td>ES</td>\n",
       "      <td>False</td>\n",
       "      <td>True</td>\n",
       "      <td>True</td>\n",
       "      <td>False</td>\n",
       "      <td>...</td>\n",
       "      <td>NaN</td>\n",
       "      <td>NaN</td>\n",
       "      <td>NaN</td>\n",
       "      <td>Network 4</td>\n",
       "      <td>True</td>\n",
       "      <td>False</td>\n",
       "      <td>True</td>\n",
       "      <td>False</td>\n",
       "      <td>09/01/2004 12:00:00 AM</td>\n",
       "      <td>NaN</td>\n",
       "    </tr>\n",
       "    <tr>\n",
       "      <th>2</th>\n",
       "      <td>609786</td>\n",
       "      <td>2130</td>\n",
       "      <td>22101</td>\n",
       "      <td>AVALON PARK</td>\n",
       "      <td>Avalon Park Elementary School</td>\n",
       "      <td>ES</td>\n",
       "      <td>False</td>\n",
       "      <td>True</td>\n",
       "      <td>True</td>\n",
       "      <td>True</td>\n",
       "      <td>...</td>\n",
       "      <td>NaN</td>\n",
       "      <td>NaN</td>\n",
       "      <td>NaN</td>\n",
       "      <td>ISP</td>\n",
       "      <td>True</td>\n",
       "      <td>False</td>\n",
       "      <td>True</td>\n",
       "      <td>False</td>\n",
       "      <td>09/01/2004 12:00:00 AM</td>\n",
       "      <td>NaN</td>\n",
       "    </tr>\n",
       "    <tr>\n",
       "      <th>3</th>\n",
       "      <td>609995</td>\n",
       "      <td>4010</td>\n",
       "      <td>23811</td>\n",
       "      <td>HITCH</td>\n",
       "      <td>Rufus M Hitch Elementary School</td>\n",
       "      <td>ES</td>\n",
       "      <td>False</td>\n",
       "      <td>True</td>\n",
       "      <td>True</td>\n",
       "      <td>True</td>\n",
       "      <td>...</td>\n",
       "      <td>NaN</td>\n",
       "      <td>NaN</td>\n",
       "      <td>NaN</td>\n",
       "      <td>ISP</td>\n",
       "      <td>True</td>\n",
       "      <td>False</td>\n",
       "      <td>True</td>\n",
       "      <td>False</td>\n",
       "      <td>09/01/2004 12:00:00 AM</td>\n",
       "      <td>NaN</td>\n",
       "    </tr>\n",
       "    <tr>\n",
       "      <th>4</th>\n",
       "      <td>609766</td>\n",
       "      <td>1920</td>\n",
       "      <td>49081</td>\n",
       "      <td>VAUGHN HS</td>\n",
       "      <td>Jacqueline B Vaughn Occupational High School</td>\n",
       "      <td>HS</td>\n",
       "      <td>True</td>\n",
       "      <td>False</td>\n",
       "      <td>False</td>\n",
       "      <td>False</td>\n",
       "      <td>...</td>\n",
       "      <td>NaN</td>\n",
       "      <td>NaN</td>\n",
       "      <td>NaN</td>\n",
       "      <td>Network 14</td>\n",
       "      <td>False</td>\n",
       "      <td>False</td>\n",
       "      <td>False</td>\n",
       "      <td>False</td>\n",
       "      <td>09/01/2004 12:00:00 AM</td>\n",
       "      <td>NaN</td>\n",
       "    </tr>\n",
       "  </tbody>\n",
       "</table>\n",
       "<p>5 rows × 95 columns</p>\n",
       "</div>"
      ],
      "text/plain": [
       "   School_ID  Legacy_Unit_ID  Finance_ID   Short_Name  \\\n",
       "0     610191            6070       29291        STONE   \n",
       "1     609799            2270       22231         BELL   \n",
       "2     609786            2130       22101  AVALON PARK   \n",
       "3     609995            4010       23811        HITCH   \n",
       "4     609766            1920       49081    VAUGHN HS   \n",
       "\n",
       "                                      Long_Name Primary_Category  \\\n",
       "0           Stone Elementary Scholastic Academy               ES   \n",
       "1       Alexander Graham Bell Elementary School               ES   \n",
       "2                 Avalon Park Elementary School               ES   \n",
       "3               Rufus M Hitch Elementary School               ES   \n",
       "4  Jacqueline B Vaughn Occupational High School               HS   \n",
       "\n",
       "   Is_High_School  Is_Middle_School  Is_Elementary_School  Is_Pre_School  ...  \\\n",
       "0           False              True                  True          False  ...   \n",
       "1           False              True                  True          False  ...   \n",
       "2           False              True                  True           True  ...   \n",
       "3           False              True                  True           True  ...   \n",
       "4            True             False                 False          False  ...   \n",
       "\n",
       "  Sixth_Contact_Name Seventh_Contact_Title Seventh_Contact_Name     Network  \\\n",
       "0                NaN                   NaN                  NaN   Network 2   \n",
       "1                NaN                   NaN                  NaN   Network 4   \n",
       "2                NaN                   NaN                  NaN         ISP   \n",
       "3                NaN                   NaN                  NaN         ISP   \n",
       "4                NaN                   NaN                  NaN  Network 14   \n",
       "\n",
       "  Is_GoCPS_Participant Is_GoCPS_PreK Is_GoCPS_Elementary Is_GoCPS_High_School  \\\n",
       "0                 True         False                True                False   \n",
       "1                 True         False                True                False   \n",
       "2                 True         False                True                False   \n",
       "3                 True         False                True                False   \n",
       "4                False         False               False                False   \n",
       "\n",
       "   Open_For_Enrollment_Date  Closed_For_Enrollment_Date  \n",
       "0    09/01/2004 12:00:00 AM                         NaN  \n",
       "1    09/01/2004 12:00:00 AM                         NaN  \n",
       "2    09/01/2004 12:00:00 AM                         NaN  \n",
       "3    09/01/2004 12:00:00 AM                         NaN  \n",
       "4    09/01/2004 12:00:00 AM                         NaN  \n",
       "\n",
       "[5 rows x 95 columns]"
      ]
     },
     "execution_count": 32,
     "metadata": {},
     "output_type": "execute_result"
    }
   ],
   "source": [
    "prof_df.head()"
   ]
  },
  {
   "cell_type": "code",
   "execution_count": 34,
   "metadata": {
    "slideshow": {
     "slide_type": "subslide"
    }
   },
   "outputs": [
    {
     "data": {
      "text/html": [
       "<div>\n",
       "<style scoped>\n",
       "    .dataframe tbody tr th:only-of-type {\n",
       "        vertical-align: middle;\n",
       "    }\n",
       "\n",
       "    .dataframe tbody tr th {\n",
       "        vertical-align: top;\n",
       "    }\n",
       "\n",
       "    .dataframe thead th {\n",
       "        text-align: right;\n",
       "    }\n",
       "</style>\n",
       "<table border=\"1\" class=\"dataframe\">\n",
       "  <thead>\n",
       "    <tr style=\"text-align: right;\">\n",
       "      <th></th>\n",
       "      <th>Zip</th>\n",
       "      <th>Student_Growth_Min</th>\n",
       "      <th>Student_Growth_Max</th>\n",
       "      <th>Student_Growth_Median</th>\n",
       "      <th>No_of_Playgrounds</th>\n",
       "      <th>Total_Acres</th>\n",
       "      <th>No_of_Bball_Courts</th>\n",
       "      <th>Graduation_Rate</th>\n",
       "      <th>College_Enrollment_Rate</th>\n",
       "    </tr>\n",
       "  </thead>\n",
       "  <tbody>\n",
       "    <tr>\n",
       "      <th>0</th>\n",
       "      <td>60636</td>\n",
       "      <td>0.0</td>\n",
       "      <td>3.0</td>\n",
       "      <td>2.0</td>\n",
       "      <td>6</td>\n",
       "      <td>85.29</td>\n",
       "      <td>8</td>\n",
       "      <td>67.70</td>\n",
       "      <td>34.25</td>\n",
       "    </tr>\n",
       "    <tr>\n",
       "      <th>1</th>\n",
       "      <td>60643</td>\n",
       "      <td>0.0</td>\n",
       "      <td>4.0</td>\n",
       "      <td>2.0</td>\n",
       "      <td>13</td>\n",
       "      <td>81.28</td>\n",
       "      <td>12</td>\n",
       "      <td>77.90</td>\n",
       "      <td>52.25</td>\n",
       "    </tr>\n",
       "    <tr>\n",
       "      <th>2</th>\n",
       "      <td>60631</td>\n",
       "      <td>1.0</td>\n",
       "      <td>3.0</td>\n",
       "      <td>2.0</td>\n",
       "      <td>6</td>\n",
       "      <td>36.60</td>\n",
       "      <td>3</td>\n",
       "      <td>47.65</td>\n",
       "      <td>53.15</td>\n",
       "    </tr>\n",
       "    <tr>\n",
       "      <th>3</th>\n",
       "      <td>60629</td>\n",
       "      <td>1.0</td>\n",
       "      <td>4.0</td>\n",
       "      <td>3.0</td>\n",
       "      <td>6</td>\n",
       "      <td>404.33</td>\n",
       "      <td>6</td>\n",
       "      <td>77.40</td>\n",
       "      <td>68.50</td>\n",
       "    </tr>\n",
       "    <tr>\n",
       "      <th>4</th>\n",
       "      <td>60616</td>\n",
       "      <td>1.0</td>\n",
       "      <td>4.0</td>\n",
       "      <td>2.0</td>\n",
       "      <td>15</td>\n",
       "      <td>679.76</td>\n",
       "      <td>12</td>\n",
       "      <td>72.80</td>\n",
       "      <td>24.80</td>\n",
       "    </tr>\n",
       "  </tbody>\n",
       "</table>\n",
       "</div>"
      ],
      "text/plain": [
       "     Zip  Student_Growth_Min  Student_Growth_Max  Student_Growth_Median  \\\n",
       "0  60636                 0.0                 3.0                    2.0   \n",
       "1  60643                 0.0                 4.0                    2.0   \n",
       "2  60631                 1.0                 3.0                    2.0   \n",
       "3  60629                 1.0                 4.0                    3.0   \n",
       "4  60616                 1.0                 4.0                    2.0   \n",
       "\n",
       "   No_of_Playgrounds  Total_Acres  No_of_Bball_Courts  Graduation_Rate  \\\n",
       "0                  6        85.29                   8            67.70   \n",
       "1                 13        81.28                  12            77.90   \n",
       "2                  6        36.60                   3            47.65   \n",
       "3                  6       404.33                   6            77.40   \n",
       "4                 15       679.76                  12            72.80   \n",
       "\n",
       "   College_Enrollment_Rate  \n",
       "0                    34.25  \n",
       "1                    52.25  \n",
       "2                    53.15  \n",
       "3                    68.50  \n",
       "4                    24.80  "
      ]
     },
     "execution_count": 34,
     "metadata": {},
     "output_type": "execute_result"
    }
   ],
   "source": [
    "# Filter High Schools only\n",
    "\n",
    "hs_df = prof_df[prof_df['Is_High_School']==True]\n",
    "\n",
    "\n",
    "grad_rate = []\n",
    "college_rate =[]\n",
    "\n",
    "# Find Values\n",
    "\n",
    "for zip in zips:\n",
    "    grad_rate.append((hs_df[hs_df['Zip'] == zip]['Graduation_Rate_School']).median())\n",
    "    college_rate.append((hs_df[hs_df['Zip'] == zip]['College_Enrollment_Rate_School']).median())\n",
    "\n",
    "# Assign Values\n",
    "\n",
    "for zip in zips:\n",
    "    growth_df.loc[growth_df['Zip']== zip, 'Graduation_Rate'] = grad_rate.pop(0)\n",
    "    growth_df.loc[growth_df['Zip']== zip, 'College_Enrollment_Rate'] = college_rate.pop(0)\n",
    "    \n",
    "growth_df.head()"
   ]
  },
  {
   "cell_type": "markdown",
   "metadata": {
    "slideshow": {
     "slide_type": "slide"
    }
   },
   "source": [
    "# The Result"
   ]
  },
  {
   "cell_type": "markdown",
   "metadata": {
    "slideshow": {
     "slide_type": "slide"
    }
   },
   "source": [
    "### Correlation Table"
   ]
  },
  {
   "cell_type": "code",
   "execution_count": 15,
   "metadata": {
    "slideshow": {
     "slide_type": "-"
    }
   },
   "outputs": [
    {
     "data": {
      "text/html": [
       "<div>\n",
       "<style scoped>\n",
       "    .dataframe tbody tr th:only-of-type {\n",
       "        vertical-align: middle;\n",
       "    }\n",
       "\n",
       "    .dataframe tbody tr th {\n",
       "        vertical-align: top;\n",
       "    }\n",
       "\n",
       "    .dataframe thead th {\n",
       "        text-align: right;\n",
       "    }\n",
       "</style>\n",
       "<table border=\"1\" class=\"dataframe\">\n",
       "  <thead>\n",
       "    <tr style=\"text-align: right;\">\n",
       "      <th></th>\n",
       "      <th>Zip</th>\n",
       "      <th>Student_Growth_Min</th>\n",
       "      <th>Student_Growth_Max</th>\n",
       "      <th>Student_Growth_Median</th>\n",
       "      <th>No_of_Playgrounds</th>\n",
       "      <th>Total_Acres</th>\n",
       "      <th>No_of_Bball_Courts</th>\n",
       "      <th>Graduation_Rate</th>\n",
       "      <th>College_Enrollment_Rate</th>\n",
       "    </tr>\n",
       "  </thead>\n",
       "  <tbody>\n",
       "    <tr>\n",
       "      <th>Zip</th>\n",
       "      <td>1.000000</td>\n",
       "      <td>0.035943</td>\n",
       "      <td>-0.107512</td>\n",
       "      <td>0.010308</td>\n",
       "      <td>-0.388990</td>\n",
       "      <td>-0.203384</td>\n",
       "      <td>-0.271794</td>\n",
       "      <td>0.166161</td>\n",
       "      <td>-0.019294</td>\n",
       "    </tr>\n",
       "    <tr>\n",
       "      <th>Student_Growth_Min</th>\n",
       "      <td>0.035943</td>\n",
       "      <td>1.000000</td>\n",
       "      <td>-0.110550</td>\n",
       "      <td>0.513534</td>\n",
       "      <td>-0.329829</td>\n",
       "      <td>-0.017297</td>\n",
       "      <td>-0.506799</td>\n",
       "      <td>0.421364</td>\n",
       "      <td>0.265687</td>\n",
       "    </tr>\n",
       "    <tr>\n",
       "      <th>Student_Growth_Max</th>\n",
       "      <td>-0.107512</td>\n",
       "      <td>-0.110550</td>\n",
       "      <td>1.000000</td>\n",
       "      <td>0.083100</td>\n",
       "      <td>0.391706</td>\n",
       "      <td>0.068706</td>\n",
       "      <td>0.474538</td>\n",
       "      <td>-0.338645</td>\n",
       "      <td>-0.392805</td>\n",
       "    </tr>\n",
       "    <tr>\n",
       "      <th>Student_Growth_Median</th>\n",
       "      <td>0.010308</td>\n",
       "      <td>0.513534</td>\n",
       "      <td>0.083100</td>\n",
       "      <td>1.000000</td>\n",
       "      <td>-0.350212</td>\n",
       "      <td>-0.202550</td>\n",
       "      <td>-0.277402</td>\n",
       "      <td>0.226335</td>\n",
       "      <td>0.246538</td>\n",
       "    </tr>\n",
       "    <tr>\n",
       "      <th>No_of_Playgrounds</th>\n",
       "      <td>-0.388990</td>\n",
       "      <td>-0.329829</td>\n",
       "      <td>0.391706</td>\n",
       "      <td>-0.350212</td>\n",
       "      <td>1.000000</td>\n",
       "      <td>0.533477</td>\n",
       "      <td>0.765091</td>\n",
       "      <td>-0.219165</td>\n",
       "      <td>-0.266085</td>\n",
       "    </tr>\n",
       "    <tr>\n",
       "      <th>Total_Acres</th>\n",
       "      <td>-0.203384</td>\n",
       "      <td>-0.017297</td>\n",
       "      <td>0.068706</td>\n",
       "      <td>-0.202550</td>\n",
       "      <td>0.533477</td>\n",
       "      <td>1.000000</td>\n",
       "      <td>0.350248</td>\n",
       "      <td>0.029874</td>\n",
       "      <td>0.013350</td>\n",
       "    </tr>\n",
       "    <tr>\n",
       "      <th>No_of_Bball_Courts</th>\n",
       "      <td>-0.271794</td>\n",
       "      <td>-0.506799</td>\n",
       "      <td>0.474538</td>\n",
       "      <td>-0.277402</td>\n",
       "      <td>0.765091</td>\n",
       "      <td>0.350248</td>\n",
       "      <td>1.000000</td>\n",
       "      <td>-0.369409</td>\n",
       "      <td>-0.325605</td>\n",
       "    </tr>\n",
       "    <tr>\n",
       "      <th>Graduation_Rate</th>\n",
       "      <td>0.166161</td>\n",
       "      <td>0.421364</td>\n",
       "      <td>-0.338645</td>\n",
       "      <td>0.226335</td>\n",
       "      <td>-0.219165</td>\n",
       "      <td>0.029874</td>\n",
       "      <td>-0.369409</td>\n",
       "      <td>1.000000</td>\n",
       "      <td>0.493321</td>\n",
       "    </tr>\n",
       "    <tr>\n",
       "      <th>College_Enrollment_Rate</th>\n",
       "      <td>-0.019294</td>\n",
       "      <td>0.265687</td>\n",
       "      <td>-0.392805</td>\n",
       "      <td>0.246538</td>\n",
       "      <td>-0.266085</td>\n",
       "      <td>0.013350</td>\n",
       "      <td>-0.325605</td>\n",
       "      <td>0.493321</td>\n",
       "      <td>1.000000</td>\n",
       "    </tr>\n",
       "  </tbody>\n",
       "</table>\n",
       "</div>"
      ],
      "text/plain": [
       "                              Zip  Student_Growth_Min  Student_Growth_Max  \\\n",
       "Zip                      1.000000            0.035943           -0.107512   \n",
       "Student_Growth_Min       0.035943            1.000000           -0.110550   \n",
       "Student_Growth_Max      -0.107512           -0.110550            1.000000   \n",
       "Student_Growth_Median    0.010308            0.513534            0.083100   \n",
       "No_of_Playgrounds       -0.388990           -0.329829            0.391706   \n",
       "Total_Acres             -0.203384           -0.017297            0.068706   \n",
       "No_of_Bball_Courts      -0.271794           -0.506799            0.474538   \n",
       "Graduation_Rate          0.166161            0.421364           -0.338645   \n",
       "College_Enrollment_Rate -0.019294            0.265687           -0.392805   \n",
       "\n",
       "                         Student_Growth_Median  No_of_Playgrounds  \\\n",
       "Zip                                   0.010308          -0.388990   \n",
       "Student_Growth_Min                    0.513534          -0.329829   \n",
       "Student_Growth_Max                    0.083100           0.391706   \n",
       "Student_Growth_Median                 1.000000          -0.350212   \n",
       "No_of_Playgrounds                    -0.350212           1.000000   \n",
       "Total_Acres                          -0.202550           0.533477   \n",
       "No_of_Bball_Courts                   -0.277402           0.765091   \n",
       "Graduation_Rate                       0.226335          -0.219165   \n",
       "College_Enrollment_Rate               0.246538          -0.266085   \n",
       "\n",
       "                         Total_Acres  No_of_Bball_Courts  Graduation_Rate  \\\n",
       "Zip                        -0.203384           -0.271794         0.166161   \n",
       "Student_Growth_Min         -0.017297           -0.506799         0.421364   \n",
       "Student_Growth_Max          0.068706            0.474538        -0.338645   \n",
       "Student_Growth_Median      -0.202550           -0.277402         0.226335   \n",
       "No_of_Playgrounds           0.533477            0.765091        -0.219165   \n",
       "Total_Acres                 1.000000            0.350248         0.029874   \n",
       "No_of_Bball_Courts          0.350248            1.000000        -0.369409   \n",
       "Graduation_Rate             0.029874           -0.369409         1.000000   \n",
       "College_Enrollment_Rate     0.013350           -0.325605         0.493321   \n",
       "\n",
       "                         College_Enrollment_Rate  \n",
       "Zip                                    -0.019294  \n",
       "Student_Growth_Min                      0.265687  \n",
       "Student_Growth_Max                     -0.392805  \n",
       "Student_Growth_Median                   0.246538  \n",
       "No_of_Playgrounds                      -0.266085  \n",
       "Total_Acres                             0.013350  \n",
       "No_of_Bball_Courts                     -0.325605  \n",
       "Graduation_Rate                         0.493321  \n",
       "College_Enrollment_Rate                 1.000000  "
      ]
     },
     "execution_count": 15,
     "metadata": {},
     "output_type": "execute_result"
    }
   ],
   "source": [
    "growth_df.corr(method='pearson')"
   ]
  },
  {
   "cell_type": "markdown",
   "metadata": {
    "slideshow": {
     "slide_type": "subslide"
    }
   },
   "source": [
    "# Potential Correlations"
   ]
  },
  {
   "cell_type": "markdown",
   "metadata": {
    "slideshow": {
     "slide_type": "subslide"
    }
   },
   "source": [
    "### Graduation Rate and College Enrollment Rate"
   ]
  },
  {
   "cell_type": "code",
   "execution_count": 16,
   "metadata": {
    "slideshow": {
     "slide_type": "-"
    }
   },
   "outputs": [
    {
     "data": {
      "text/plain": [
       "Text(0, 0.5, 'College Enrollment Rate')"
      ]
     },
     "execution_count": 16,
     "metadata": {},
     "output_type": "execute_result"
    },
    {
     "data": {
      "image/png": "[encoded data removed]",
      "text/plain": [
       "<Figure size 432x288 with 1 Axes>"
      ]
     },
     "metadata": {
      "needs_background": "light"
     },
     "output_type": "display_data"
    }
   ],
   "source": [
    "plt.scatter(growth_df['Graduation_Rate'],growth_df['College_Enrollment_Rate'])\n",
    "plt.title('Scatter plot')\n",
    "plt.xlabel('Graduation Rate')\n",
    "plt.ylabel('College Enrollment Rate')\n"
   ]
  },
  {
   "cell_type": "markdown",
   "metadata": {
    "slideshow": {
     "slide_type": "subslide"
    }
   },
   "source": [
    "### No. of Basektball Courts and No. of Playgrounds"
   ]
  },
  {
   "cell_type": "code",
   "execution_count": 17,
   "metadata": {
    "slideshow": {
     "slide_type": "-"
    }
   },
   "outputs": [
    {
     "data": {
      "text/plain": [
       "Text(0, 0.5, 'Playgrounds')"
      ]
     },
     "execution_count": 17,
     "metadata": {},
     "output_type": "execute_result"
    },
    {
     "data": {
      "image/png": "[encoded data removed]",
      "text/plain": [
       "<Figure size 432x288 with 1 Axes>"
      ]
     },
     "metadata": {
      "needs_background": "light"
     },
     "output_type": "display_data"
    }
   ],
   "source": [
    "plt.scatter(growth_df['No_of_Bball_Courts'],growth_df['No_of_Playgrounds'])\n",
    "plt.title('Scatter plot')\n",
    "plt.xlabel('Basketball Courts')\n",
    "plt.ylabel('Playgrounds')"
   ]
  },
  {
   "cell_type": "markdown",
   "metadata": {
    "slideshow": {
     "slide_type": "slide"
    }
   },
   "source": [
    "# Questions?"
   ]
  }
 ],
 "metadata": {
  "celltoolbar": "Slideshow",
  "kernelspec": {
   "display_name": "Python 3",
   "language": "python",
   "name": "python3"
  },
  "language_info": {
   "codemirror_mode": {
    "name": "ipython",
    "version": 3
   },
   "file_extension": ".py",
   "mimetype": "text/x-python",
   "name": "python",
   "nbconvert_exporter": "python",
   "pygments_lexer": "ipython3",
   "version": "3.7.4"
  }
 },
 "nbformat": 4,
 "nbformat_minor": 2
}
